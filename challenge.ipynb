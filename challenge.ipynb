{
  "nbformat": 4,
  "nbformat_minor": 0,
  "metadata": {
    "colab": {
      "name": "challenge.ipynb",
      "provenance": [],
      "collapsed_sections": [],
      "toc_visible": true,
      "authorship_tag": "ABX9TyP9AtuVmUMCXn7hETuT+KWh",
      "include_colab_link": true
    },
    "kernelspec": {
      "name": "python3",
      "display_name": "Python 3"
    }
  },
  "cells": [
    {
      "cell_type": "markdown",
      "metadata": {
        "id": "view-in-github",
        "colab_type": "text"
      },
      "source": [
        "<a href=\"https://colab.research.google.com/github/Dhormir/PotatoMachine-Taller1/blob/main/challenge.ipynb\" target=\"_parent\"><img src=\"https://colab.research.google.com/assets/colab-badge.svg\" alt=\"Open In Colab\"/></a>"
      ]
    },
    {
      "cell_type": "markdown",
      "metadata": {
        "id": "L5rfZ_hYaQ1Z"
      },
      "source": [
        "<center><img src=\"http://www.exalumnos.usm.cl/wp-content/uploads/2015/06/Isotipo-Negro.gif\" title=\"Title text\" width=\"30%\" /></center>\n",
        "\n",
        "<hr style=\"height:2px;border:none\"/>\n",
        "<h1 align='center'> INF-393 Aprendizaje Automático </h1>\n",
        "\n",
        "<H3 align='center'> Tarea/Taller 1 </H3>\n",
        "<hr style=\"height:2px;border:none\"/>\n",
        "\n",
        "**Integrantes**\n",
        "\n",
        "\n",
        "*   Domingo Benoit\n",
        "*   Tomás Berríos\n",
        "\n",
        "\n",
        "\n",
        "**Temas**  \n",
        "\n",
        "* Clasificadores Discriminativos Clásicos\n",
        "* Clasificadores Generativos Clásicos\n",
        "* Regresión Lineal y Regularización \n",
        "* Selección de Características (parcial, seguiremos en T2)\n",
        "* Reducción de Dimensionalidad\n",
        "\n",
        "\n",
        "<hr style=\"height:2px;border:none\"/>\n"
      ]
    },
    {
      "cell_type": "markdown",
      "metadata": {
        "id": "2yhR6HIBIvRR"
      },
      "source": [
        "**Nota:** Al momento de realizar la experimentación, se buscó en la literatura que técnicas y modelos se ocupaban, y con eso se usaron durante la competencia modelos fuera de los estudiados, sin darnos cuenta que no estaba permitido, por lo que finalmente se optó por utilizar un modelo de regresión lineal, ajustando sus hiperparametros con una representación de texto. Se explica esto dado que durante el notebook, la mayor parte de código es al entrenamiento del modelo SVM."
      ]
    },
    {
      "cell_type": "markdown",
      "metadata": {
        "id": "DnGEk-vR0zjk"
      },
      "source": [
        "#Imports"
      ]
    },
    {
      "cell_type": "code",
      "metadata": {
        "id": "h075Lco4pkHY"
      },
      "source": [
        "from sklearn.feature_extraction.text import TfidfVectorizer, CountVectorizer\n",
        "\n",
        "from sklearn.metrics import confusion_matrix\n",
        "from sklearn.metrics import classification_report\n",
        "from sklearn.metrics import f1_score, accuracy_score\n",
        "\n",
        "from sklearn.model_selection import cross_val_score\n",
        "from sklearn.model_selection import cross_val_predict\n",
        "from sklearn.model_selection import train_test_split\n",
        "from sklearn.model_selection import RepeatedStratifiedKFold\n",
        "from sklearn.model_selection import GridSearchCV\n",
        "\n",
        "from sklearn.preprocessing import LabelEncoder\n",
        "from sklearn.preprocessing import OneHotEncoder\n",
        "\n",
        "from sklearn.naive_bayes import MultinomialNB\n",
        "from sklearn.svm import LinearSVC, SVC\n",
        "from sklearn.tree import DecisionTreeClassifier\n",
        "from sklearn.linear_model import LogisticRegression\n",
        "from sklearn import tree\n",
        "\n",
        "import pandas as pd\n",
        "import numpy as np\n",
        "\n",
        "import nltk\n",
        "\n",
        "from nltk.corpus import stopwords\n",
        "\n",
        "from nltk.stem.snowball import SnowballStemmer\n",
        "\n",
        "from nltk.stem import WordNetLemmatizer "
      ],
      "execution_count": 18,
      "outputs": []
    },
    {
      "cell_type": "markdown",
      "metadata": {
        "id": "Hw-QaH8w2VOg"
      },
      "source": [
        "#Dataset"
      ]
    },
    {
      "cell_type": "code",
      "metadata": {
        "id": "A3GO3xp52WuX",
        "outputId": "cf7afbf4-c3f9-4e81-97ec-bd66b7c79c3e",
        "colab": {
          "base_uri": "https://localhost:8080/"
        }
      },
      "source": [
        "print(\"Mounting your Google Drive ...\")\n",
        "\n",
        "from google.colab import drive\n",
        "drive.flush_and_unmount()\n",
        "drive.mount('/content/drive',force_remount=True)\n",
        " \n",
        "path = \"/content/drive/My Drive/Defensa 1/Parte 2/dataset/\"\n"
      ],
      "execution_count": 9,
      "outputs": [
        {
          "output_type": "stream",
          "text": [
            "Mounting your Google Drive ...\n",
            "Mounted at /content/drive\n"
          ],
          "name": "stdout"
        }
      ]
    },
    {
      "cell_type": "code",
      "metadata": {
        "id": "kAxX3UKK3Bcn"
      },
      "source": [
        "train_name = 'train.csv'\n",
        "data = pd.read_csv(path + train_name)\n",
        "\n",
        "submit_name = \"x_test.csv\"\n",
        "submit_csv = pd.read_csv(path + submit_name)"
      ],
      "execution_count": 10,
      "outputs": []
    },
    {
      "cell_type": "markdown",
      "metadata": {
        "id": "PHvUoe8eS4nS"
      },
      "source": [
        "#Analisis exploratorio"
      ]
    },
    {
      "cell_type": "code",
      "metadata": {
        "id": "Mp4kr-q9S4KS",
        "outputId": "6e02402f-e3a2-4e13-c38d-379231b5c41d",
        "colab": {
          "base_uri": "https://localhost:8080/",
          "height": 195
        }
      },
      "source": [
        "data.head()"
      ],
      "execution_count": 11,
      "outputs": [
        {
          "output_type": "execute_result",
          "data": {
            "text/html": [
              "<div>\n",
              "<style scoped>\n",
              "    .dataframe tbody tr th:only-of-type {\n",
              "        vertical-align: middle;\n",
              "    }\n",
              "\n",
              "    .dataframe tbody tr th {\n",
              "        vertical-align: top;\n",
              "    }\n",
              "\n",
              "    .dataframe thead th {\n",
              "        text-align: right;\n",
              "    }\n",
              "</style>\n",
              "<table border=\"1\" class=\"dataframe\">\n",
              "  <thead>\n",
              "    <tr style=\"text-align: right;\">\n",
              "      <th></th>\n",
              "      <th>title</th>\n",
              "      <th>category</th>\n",
              "    </tr>\n",
              "  </thead>\n",
              "  <tbody>\n",
              "    <tr>\n",
              "      <th>0</th>\n",
              "      <td>Bikini Malla Lunares  Colores Colección Verano...</td>\n",
              "      <td>WOMEN_SWIMWEAR</td>\n",
              "    </tr>\n",
              "    <tr>\n",
              "      <th>1</th>\n",
              "      <td>Kit 4 Bujias Ngk Ford F-100 3.0 Bp5efs</td>\n",
              "      <td>SPARK_PLUGS</td>\n",
              "    </tr>\n",
              "    <tr>\n",
              "      <th>2</th>\n",
              "      <td>Campera Rompeviento adidas Originals Hard Shel...</td>\n",
              "      <td>JACKETS_AND_COATS</td>\n",
              "    </tr>\n",
              "    <tr>\n",
              "      <th>3</th>\n",
              "      <td>Vulk - Danner Sblk/sg91 Polarized</td>\n",
              "      <td>SUNGLASSES</td>\n",
              "    </tr>\n",
              "    <tr>\n",
              "      <th>4</th>\n",
              "      <td>Calza Frizada Termica</td>\n",
              "      <td>PANTS</td>\n",
              "    </tr>\n",
              "  </tbody>\n",
              "</table>\n",
              "</div>"
            ],
            "text/plain": [
              "                                               title           category\n",
              "0  Bikini Malla Lunares  Colores Colección Verano...     WOMEN_SWIMWEAR\n",
              "1             Kit 4 Bujias Ngk Ford F-100 3.0 Bp5efs        SPARK_PLUGS\n",
              "2  Campera Rompeviento adidas Originals Hard Shel...  JACKETS_AND_COATS\n",
              "3                  Vulk - Danner Sblk/sg91 Polarized         SUNGLASSES\n",
              "4                              Calza Frizada Termica              PANTS"
            ]
          },
          "metadata": {
            "tags": []
          },
          "execution_count": 11
        }
      ]
    },
    {
      "cell_type": "code",
      "metadata": {
        "id": "6VSeZHuxS_jQ",
        "outputId": "3fb0194b-1773-4328-c01c-3afd5f9382e6",
        "colab": {
          "base_uri": "https://localhost:8080/"
        }
      },
      "source": [
        "freq_class = data.groupby('category')['category'].count()\n",
        "freq_class"
      ],
      "execution_count": 12,
      "outputs": [
        {
          "output_type": "execute_result",
          "data": {
            "text/plain": [
              "category\n",
              "ACTION_FIGURES                  2763\n",
              "AUTOMOTIVE_CLUTCH_KITS          2036\n",
              "AUTOMOTIVE_SIDE_VIEW_MIRRORS    2075\n",
              "BABY_CAR_SEATS                  1732\n",
              "BABY_STROLLERS                  2015\n",
              "BACKPACKS                       2478\n",
              "BOARD_GAMES                     2119\n",
              "BOOKS                           2738\n",
              "CAR_STEREOS                     2182\n",
              "CATS_AND_DOGS_FOODS             2060\n",
              "CEILING_LIGHTS                  2365\n",
              "COMPUTER_MONITORS               1814\n",
              "COMPUTER_PROCESSORS             1780\n",
              "COSTUMES                        1921\n",
              "DIECAST_VEHICLES                2149\n",
              "DOLLS                           2404\n",
              "ELECTRIC_GUITARS                2392\n",
              "EYESHADOWS                      1789\n",
              "FOOTBALL_SHIRTS                 2613\n",
              "FOOTBALL_SHOES                  2028\n",
              "HANDBAGS                        2570\n",
              "HOME_HEATERS                    2073\n",
              "INSTRUMENT_AMPLIFIERS           1720\n",
              "JACKETS_AND_COATS               2639\n",
              "LIGHT_BULBS                     2310\n",
              "LIPSTICKS                       1682\n",
              "MAGAZINES                       2070\n",
              "MATTRESSES                      1697\n",
              "MICROPHONES                     1858\n",
              "MOBILE_DEVICE_CHARGERS          2089\n",
              "MOTORCYCLE_HELMETS              2294\n",
              "NECKLACES                       2211\n",
              "NOTEBOOKS                       2349\n",
              "PANTS                           2427\n",
              "PEDAL_EFFECTS                   2127\n",
              "PRINTERS                        1732\n",
              "PUREBRED_DOGS                   2238\n",
              "RAM_MEMORY_MODULES              2231\n",
              "REFRIGERATORS                   1946\n",
              "SHIRTS                          2364\n",
              "SMARTWATCHES                    1928\n",
              "SPARK_PLUGS                     2060\n",
              "SUNGLASSES                      2289\n",
              "SURVEILLANCE_CAMERAS            1811\n",
              "TABLETS                         2063\n",
              "TELEVISIONS                     2497\n",
              "TOY_BUILDING_SETS               2080\n",
              "T_SHIRTS                        1677\n",
              "WOMEN_SWIMWEAR                  1967\n",
              "WRISTWATCHES                    2739\n",
              "Name: category, dtype: int64"
            ]
          },
          "metadata": {
            "tags": []
          },
          "execution_count": 12
        }
      ]
    },
    {
      "cell_type": "code",
      "metadata": {
        "id": "EUWljG8jTPiw",
        "outputId": "39f49f33-89f4-4dbb-ee70-909f66a64e1b",
        "colab": {
          "base_uri": "https://localhost:8080/"
        }
      },
      "source": [
        "print(\"Samples categoría menor representada:\",np.min(np.array(freq_class)),\n",
        "      \"\\nSamples categoría más representada:\",np.max(np.array(freq_class)))"
      ],
      "execution_count": 13,
      "outputs": [
        {
          "output_type": "stream",
          "text": [
            "Samples categoría menor representada: 1677 \n",
            "Samples categoría más representada: 2763\n"
          ],
          "name": "stdout"
        }
      ]
    },
    {
      "cell_type": "markdown",
      "metadata": {
        "id": "jhcdi_GuNW3f"
      },
      "source": [
        "#Pre-procesamiento del texto"
      ]
    },
    {
      "cell_type": "code",
      "metadata": {
        "id": "unIo6xa_Ng6M"
      },
      "source": [
        "values = np.array(data['category'])\n",
        "\n",
        "label_encoder = LabelEncoder()\n",
        "integer_encoded = label_encoder.fit_transform(values)\n",
        "\n",
        "data.category = integer_encoded\n",
        "\n",
        "titles = np.array(data.title)\n",
        "categories = np.array(data.category)"
      ],
      "execution_count": 14,
      "outputs": []
    },
    {
      "cell_type": "code",
      "metadata": {
        "id": "t6m4uyIXOCmc",
        "outputId": "843e2508-a6d3-4460-e7b0-3d2ef2cb59ea",
        "colab": {
          "base_uri": "https://localhost:8080/"
        }
      },
      "source": [
        "nltk.download('wordnet')\n",
        "nltk.download('stopwords')\n",
        "\n",
        "tokenizer = TfidfVectorizer().build_tokenizer()#Return a function that splits a string into a sequence of tokens considering unicode characters\n",
        "stemmer = SnowballStemmer(\"spanish\") \n",
        "lemmatizer = WordNetLemmatizer()\n",
        "\n",
        "remove_stops_here = True\n",
        "\n",
        "def my_pre_processer(text):\n",
        "    results = []\n",
        "    for token in tokenizer(text):\n",
        "        clean_token = token.lower().strip().strip('-').strip('_')\n",
        "        if remove_stops_here and (clean_token in stopwords.words('spanish')):\n",
        "          continue\n",
        "        token_pro = stemmer.stem(clean_token) #podemos probar stemming en vez de lematizacion\n",
        "        #token_pro = lemmatizer.lemmatize(clean_token)\n",
        "        #token_pro = clean_token\n",
        "        if not token_pro[0].isdigit(): \n",
        "            results.append(token_pro)\n",
        "    return results\n",
        "\n",
        "print(titles[0])\n",
        "my_pre_processer(titles[0])"
      ],
      "execution_count": 15,
      "outputs": [
        {
          "output_type": "stream",
          "text": [
            "[nltk_data] Downloading package wordnet to /root/nltk_data...\n",
            "[nltk_data]   Unzipping corpora/wordnet.zip.\n",
            "[nltk_data] Downloading package stopwords to /root/nltk_data...\n",
            "[nltk_data]   Unzipping corpora/stopwords.zip.\n",
            "Bikini Malla Lunares  Colores Colección Verano 2014\n"
          ],
          "name": "stdout"
        },
        {
          "output_type": "execute_result",
          "data": {
            "text/plain": [
              "['bikini', 'mall', 'lunar', 'color', 'coleccion', 'veran']"
            ]
          },
          "metadata": {
            "tags": []
          },
          "execution_count": 15
        }
      ]
    },
    {
      "cell_type": "markdown",
      "metadata": {
        "id": "wbhbz1u53NkF"
      },
      "source": [
        "##Representaciones del texto"
      ]
    },
    {
      "cell_type": "code",
      "metadata": {
        "id": "v0dhSccjYbGG"
      },
      "source": [
        "ngram_max = 1\n",
        "max_features = 10000\n",
        "max_df=0.8\n",
        "min_df=1\n",
        "\n",
        "vectorizer_Tfidf = TfidfVectorizer(stop_words='english', tokenizer=my_pre_processer, min_df=min_df, max_df=max_df,\n",
        "                            binary=False, use_idf=True, smooth_idf=True, \n",
        "                            norm=None)\n",
        "\n",
        "vectorizer_Tf = CountVectorizer(stop_words='english', tokenizer=my_pre_processer, min_df=min_df, max_df=max_df)\n",
        "\n",
        "vectorizer_binary = CountVectorizer(stop_words='english', tokenizer=my_pre_processer, min_df=min_df, max_df=max_df,\n",
        "                                binary=True)"
      ],
      "execution_count": 16,
      "outputs": []
    },
    {
      "cell_type": "code",
      "metadata": {
        "id": "Q_mxPRkWN6cu",
        "outputId": "4a41da18-ff16-400c-b2a1-45ed3a8ccd6a",
        "colab": {
          "base_uri": "https://localhost:8080/"
        }
      },
      "source": [
        "X_train, X_test, y_train, y_test = train_test_split(titles, categories, test_size=0.1, random_state=1337)\n",
        "\n",
        "titles_tf = vectorizer_Tf.fit_transform(titles)\n",
        "X_train_tf = vectorizer_Tf.transform(X_train)\n",
        "X_test_tf = vectorizer_Tf.transform(X_test)\n",
        "X_pred_tf = vectorizer_Tf.transform(np.array(submit_csv.title))\n",
        "\n",
        "titles_binary = vectorizer_binary.fit_transform(titles)\n",
        "X_train_binary = vectorizer_binary.transform(X_train)\n",
        "X_test_binary = vectorizer_binary.transform(X_test)\n",
        "X_pred_binary = vectorizer_binary.transform(np.array(submit_csv.title))\n",
        "\n",
        "X_train_tfidf = vectorizer_Tfidf.fit_transform(X_train)\n",
        "X_test_tfidf = vectorizer_Tfidf.transform(X_test)\n",
        "X_pred_tfidf = vectorizer_Tfidf.transform(np.array(submit_csv.title))"
      ],
      "execution_count": 17,
      "outputs": [
        {
          "output_type": "stream",
          "text": [
            "/usr/local/lib/python3.6/dist-packages/sklearn/feature_extraction/text.py:385: UserWarning: Your stop_words may be inconsistent with your preprocessing. Tokenizing the stop words generated tokens ['abov', 'alon', 'anoth', 'anyon', 'anywher', 'becam', 'becaus', 'becom', 'befor', 'besid', 'betw', 'describ', 'don', 'eith', 'elev', 'elsewher', 'everyon', 'everywher', 'fift', 'fir', 'fiv', 'form', 'furth', 'giv', 'hav', 'henc', 'hereaft', 'howev', 'hundr', 'inde', 'latt', 'mad', 'meanwhil', 'min', 'mor', 'moreov', 'mov', 'nam', 'neith', 'nev', 'nin', 'non', 'noon', 'nowher', 'otherwis', 'ourselv', 'ple', 'rath', 'sam', 'sid', 'sinc', 'sincer', 'som', 'someon', 'sometim', 'somewher', 'tak', 'themselv', 'thenc', 'ther', 'thereaft', 'therefor', 'thes', 'thos', 'thre', 'togeth', 'twelv', 'wer', 'whatev', 'whenc', 'whenev', 'wher', 'whereaft', 'wherev', 'wheth', 'whil', 'whith', 'whoev', 'whol', 'whos', 'yourselv'] not in stop_words.\n",
            "  'stop_words.' % sorted(inconsistent))\n"
          ],
          "name": "stderr"
        }
      ]
    },
    {
      "cell_type": "markdown",
      "metadata": {
        "id": "NR6TCBGI2tL1"
      },
      "source": [
        "##Representación elegida"
      ]
    },
    {
      "cell_type": "code",
      "metadata": {
        "id": "a8Z8tZtG2wnM"
      },
      "source": [
        "ngram_max = 1\n",
        "max_features = 10000\n",
        "max_df=0.8\n",
        "min_df=1\n",
        "\n",
        "vectorizer_Tfidf = TfidfVectorizer(stop_words='english', tokenizer=my_pre_processer, min_df=min_df, max_df=max_df,\n",
        "                            binary=False, use_idf=True, smooth_idf=True, \n",
        "                            norm=None)\n",
        "\n",
        "X_train, X_test, y_train, y_test = train_test_split(titles, categories, test_size=0.1, random_state=1337)\n",
        "\n",
        "X_titles_tfidf = vectorizer_Tfidf.fit_transform(titles)\n",
        "\n",
        "X_train_tfidf = vectorizer_Tfidf.transform(X_train)\n",
        "X_test_tfidf = vectorizer_Tfidf.transform(X_test)\n",
        "X_pred_tfidf = vectorizer_Tfidf.transform(np.array(submit_csv.title))"
      ],
      "execution_count": null,
      "outputs": []
    },
    {
      "cell_type": "markdown",
      "metadata": {
        "id": "Ekm2YTEN01wx"
      },
      "source": [
        "#Modelos"
      ]
    },
    {
      "cell_type": "code",
      "metadata": {
        "id": "pyAA4_6v03uK"
      },
      "source": [
        "dt = DecisionTreeClassifier()\n",
        "svm = LinearSVC(penalty='l2', max_iter=50000)\n",
        "svm_balanced = LinearSVC(penalty='l2', class_weight='balanced', max_iter=50000)\n",
        "nb = MultinomialNB()\n",
        "lr = LogisticRegression(penalty='l2', class_weight='balanced', max_iter=50000)"
      ],
      "execution_count": 19,
      "outputs": []
    },
    {
      "cell_type": "markdown",
      "metadata": {
        "id": "zpLcZf-104OZ"
      },
      "source": [
        "#Training"
      ]
    },
    {
      "cell_type": "markdown",
      "metadata": {
        "id": "x9c3zefde7Z3"
      },
      "source": [
        "##Elección del modelo"
      ]
    },
    {
      "cell_type": "markdown",
      "metadata": {
        "id": "roWLAqtf-dNs"
      },
      "source": [
        "###Entrenamiento con GridSearchCV"
      ]
    },
    {
      "cell_type": "markdown",
      "metadata": {
        "id": "I8y_9Ktb5T2b"
      },
      "source": [
        "Entrenamiento de GridSearchCV con representación binaria."
      ]
    },
    {
      "cell_type": "code",
      "metadata": {
        "id": "8LYjVRiJ-iNb"
      },
      "source": [
        "C = [1000, 0.1, 0.01, 0.001, 0.0001]\n",
        "penalty = ['l2']\n",
        "max_iter = [50000]\n",
        "class_weight = ['balanced']\n",
        "\n",
        "model = LinearSVC()\n",
        "\n",
        "grid = dict(C = C,\n",
        "            penalty = penalty,\n",
        "            max_iter = max_iter,\n",
        "            class_weight = class_weight)\n",
        "\n",
        "cv = RepeatedStratifiedKFold(n_splits=10, n_repeats=3, random_state=1)\n",
        "grid_search = GridSearchCV(estimator=model, param_grid=grid, n_jobs=-1, cv=cv, scoring='accuracy', error_score=0)\n",
        "grid_result = grid_search.fit(X_train_binary, y_train)"
      ],
      "execution_count": null,
      "outputs": []
    },
    {
      "cell_type": "code",
      "metadata": {
        "id": "R9TyX1KuRbll",
        "outputId": "a79ac987-30b5-479f-931a-dee41ae7a99a",
        "colab": {
          "base_uri": "https://localhost:8080/"
        }
      },
      "source": [
        "print(\"Best: %f using %s\" % (grid_result.best_score_, grid_result.best_params_))\n",
        "\n",
        "means = grid_result.cv_results_['mean_test_score']\n",
        "stds = grid_result.cv_results_['std_test_score']\n",
        "params = grid_result.cv_results_['params']\n",
        "for mean, stdev, param in zip(means, stds, params):\n",
        "    print(\"%f (%f) with: %r\" % (mean, stdev, param))"
      ],
      "execution_count": null,
      "outputs": [
        {
          "output_type": "stream",
          "text": [
            "Best: 0.975571 using {'C': 0.1, 'class_weight': 'balanced', 'max_iter': 50000, 'penalty': 'l2'}\n",
            "0.952753 (0.003164) with: {'C': 1000, 'class_weight': 'balanced', 'max_iter': 50000, 'penalty': 'l2'}\n",
            "0.975571 (0.001370) with: {'C': 0.1, 'class_weight': 'balanced', 'max_iter': 50000, 'penalty': 'l2'}\n",
            "0.967980 (0.001403) with: {'C': 0.01, 'class_weight': 'balanced', 'max_iter': 50000, 'penalty': 'l2'}\n",
            "0.948136 (0.002180) with: {'C': 0.001, 'class_weight': 'balanced', 'max_iter': 50000, 'penalty': 'l2'}\n",
            "0.918718 (0.002183) with: {'C': 0.0001, 'class_weight': 'balanced', 'max_iter': 50000, 'penalty': 'l2'}\n"
          ],
          "name": "stdout"
        }
      ]
    },
    {
      "cell_type": "markdown",
      "metadata": {
        "id": "uh3YJMYx5ZW3"
      },
      "source": [
        "Entrenamiento de GridSearchCV con representación Tf."
      ]
    },
    {
      "cell_type": "code",
      "metadata": {
        "id": "n9_s3Gt29HGQ"
      },
      "source": [
        "C = [1000, 0.1, 0.01, 0.001, 0.0001]\n",
        "penalty = ['l2']\n",
        "max_iter = [50000]\n",
        "class_weight = ['balanced']\n",
        "\n",
        "model = LinearSVC()\n",
        "\n",
        "grid = dict(C = C,\n",
        "            penalty = penalty,\n",
        "            max_iter = max_iter,\n",
        "            class_weight = class_weight)\n",
        "\n",
        "cv = RepeatedStratifiedKFold(n_splits=10, n_repeats=3, random_state=1)\n",
        "grid_search = GridSearchCV(estimator=model, param_grid=grid, n_jobs=-1, cv=cv, scoring='accuracy', error_score=0)\n",
        "grid_result = grid_search.fit(X_train_tf, y_train)"
      ],
      "execution_count": null,
      "outputs": []
    },
    {
      "cell_type": "code",
      "metadata": {
        "id": "RIFeqq2b9HGg",
        "outputId": "d4f7952a-9b78-42e8-b842-9bc1a771dff9",
        "colab": {
          "base_uri": "https://localhost:8080/"
        }
      },
      "source": [
        "print(\"Best: %f using %s\" % (grid_result.best_score_, grid_result.best_params_))\n",
        "\n",
        "means = grid_result.cv_results_['mean_test_score']\n",
        "stds = grid_result.cv_results_['std_test_score']\n",
        "params = grid_result.cv_results_['params']\n",
        "for mean, stdev, param in zip(means, stds, params):\n",
        "    print(\"%f (%f) with: %r\" % (mean, stdev, param))"
      ],
      "execution_count": null,
      "outputs": [
        {
          "output_type": "stream",
          "text": [
            "Best: 0.975526 using {'C': 0.1, 'class_weight': 'balanced', 'max_iter': 50000, 'penalty': 'l2'}\n",
            "0.951979 (0.003576) with: {'C': 1000, 'class_weight': 'balanced', 'max_iter': 50000, 'penalty': 'l2'}\n",
            "0.975526 (0.001212) with: {'C': 0.1, 'class_weight': 'balanced', 'max_iter': 50000, 'penalty': 'l2'}\n",
            "0.967921 (0.001391) with: {'C': 0.01, 'class_weight': 'balanced', 'max_iter': 50000, 'penalty': 'l2'}\n",
            "0.948206 (0.002069) with: {'C': 0.001, 'class_weight': 'balanced', 'max_iter': 50000, 'penalty': 'l2'}\n",
            "0.918608 (0.002111) with: {'C': 0.0001, 'class_weight': 'balanced', 'max_iter': 50000, 'penalty': 'l2'}\n"
          ],
          "name": "stdout"
        }
      ]
    },
    {
      "cell_type": "markdown",
      "metadata": {
        "id": "si7VDJ95JXo0"
      },
      "source": [
        "Entrenamiento de GridSearchCV con representación Tf-idf al modelo LR."
      ]
    },
    {
      "cell_type": "code",
      "metadata": {
        "id": "YA-F1Sb7LjJU"
      },
      "source": [
        "C = [1000, 0.1, 0.01, 0.001, 0.0001]\n",
        "penalty = ['l2', 'l1']\n",
        "max_iter = [50000]\n",
        "class_weight = ['balanced']\n",
        "\n",
        "model = LogisticRegression()\n",
        "\n",
        "grid = dict(C = C,\n",
        "            penalty = penalty,\n",
        "            max_iter = max_iter,\n",
        "            class_weight = class_weight)\n",
        "\n",
        "cv = RepeatedStratifiedKFold(n_splits=10, n_repeats=3, random_state=1)\n",
        "grid_search = GridSearchCV(estimator=model, param_grid=grid, n_jobs=-1, cv=cv, scoring='accuracy', error_score=0)\n",
        "grid_result = grid_search.fit(X_train_tfidf, y_train)"
      ],
      "execution_count": null,
      "outputs": []
    },
    {
      "cell_type": "code",
      "metadata": {
        "id": "uXk9Bh3CLjJl"
      },
      "source": [
        "print(\"Best: %f using %s\" % (grid_result.best_score_, grid_result.best_params_))\n",
        "\n",
        "means = grid_result.cv_results_['mean_test_score']\n",
        "stds = grid_result.cv_results_['std_test_score']\n",
        "params = grid_result.cv_results_['params']\n",
        "for mean, stdev, param in zip(means, stds, params):\n",
        "    print(\"%f (%f) with: %r\" % (mean, stdev, param))"
      ],
      "execution_count": null,
      "outputs": []
    },
    {
      "cell_type": "markdown",
      "metadata": {
        "id": "W6bh5WBeY904"
      },
      "source": [
        "###Entrenamiento CV con diferentes modelos y representaciones de texto."
      ]
    },
    {
      "cell_type": "markdown",
      "metadata": {
        "id": "B_6iD8-_IcfD"
      },
      "source": [
        "A continuación se utilizara un modelo de regresión logistica"
      ]
    },
    {
      "cell_type": "code",
      "metadata": {
        "id": "0bLSZCXnHhrN",
        "outputId": "6764074c-84a2-4cca-c15d-dd4258f326fc",
        "colab": {
          "base_uri": "https://localhost:8080/"
        }
      },
      "source": [
        "#Probando LR con diferentes representaciones\n",
        "cv_scores_bn = cross_val_score(lr, X_train_binary, y_train, cv = 10)\n",
        "cv_scores_tf = cross_val_score(lr, X_train_tf, y_train, cv = 10)\n",
        "cv_scores_tfidf = cross_val_score(lr, X_train_tfidf, y_train, cv = 10)\n",
        "print(\"Modelo LR con diferentes representaciones:\")\n",
        "print(\"\\nBinary:\", np.mean(cv_scores_bn),\n",
        "      \"\\nTf:\", np.mean(cv_scores_tf),\n",
        "      \"\\nTf-idf\", np.mean(cv_scores_tfidf))"
      ],
      "execution_count": 20,
      "outputs": [
        {
          "output_type": "stream",
          "text": [
            "Modelo LR con diferentes representaciones:\n",
            "\n",
            "Binary: 0.9719190159306781 \n",
            "Tf: 0.9716806019915969 \n",
            "Tf-idf 0.9720744960883705\n"
          ],
          "name": "stdout"
        }
      ]
    },
    {
      "cell_type": "markdown",
      "metadata": {
        "id": "IPiC0GgvIf4Y"
      },
      "source": [
        "En adelante se comparará modelos no estudiados aún junto con modelos de NB."
      ]
    },
    {
      "cell_type": "code",
      "metadata": {
        "id": "ndHleJdPIHXy",
        "outputId": "df540358-aa76-41e6-e8f5-ecbf9cf7f6ad",
        "colab": {
          "base_uri": "https://localhost:8080/"
        }
      },
      "source": [
        "cv_scores_dt = cross_val_score(dt, X_train_binary, y_train, cv = 10)\n",
        "cv_scores_svm = cross_val_score(svm, X_train_binary, y_train, cv = 10)\n",
        "cv_scores_svm_balanced = cross_val_score(svm_balanced, X_train_binary, y_train, cv = 10)\n",
        "cv_score_nb = cross_val_score(nb, X_train_binary, y_train, cv = 10)\n",
        "print(\"Representación Binary\")\n",
        "print(\"\\nCV Decision Tree:\", np.mean(cv_scores_dt),\n",
        "      \"\\nCV Support Vector Machines:\", np.mean(cv_scores_svm),\n",
        "      \"\\nCV SVM con Penalizacion de Desbalanceo:\", np.mean(cv_scores_svm_balanced),\n",
        "      \"\\nCV NB:\", np.mean(cv_score_nb))"
      ],
      "execution_count": null,
      "outputs": [
        {
          "output_type": "stream",
          "text": [
            "Representación Binary\n",
            "\n",
            "CV Decision Tree: 0.9447501874202464 \n",
            "CV Support Vector Machines: 0.9743446114680735 \n",
            "CV SVM con Penalizacion de Desbalanceo: 0.9744586344047702 \n",
            "CV NB: 0.9653885484725228\n"
          ],
          "name": "stdout"
        }
      ]
    },
    {
      "cell_type": "code",
      "metadata": {
        "id": "1CJAAFgxyNKc",
        "outputId": "e15b5361-4c5a-4f33-dc5e-2d9fbc2c1fcf",
        "colab": {
          "base_uri": "https://localhost:8080/"
        }
      },
      "source": [
        "cv_scores_dt = cross_val_score(dt, X_train_tf, y_train, cv = 10)\n",
        "cv_scores_svm = cross_val_score(svm, X_train_tf, y_train, cv = 10)\n",
        "cv_scores_svm_balanced = cross_val_score(svm_balanced, X_train_tf, y_train, cv = 10)\n",
        "cv_score_nb = cross_val_score(nb, X_train_tf, y_train, cv = 10)\n",
        "print(\"Representación TF\")\n",
        "print(\"\\nCV Decision Tree:\", np.mean(cv_scores_dt),\n",
        "      \"\\nCV Support Vector Machines:\", np.mean(cv_scores_svm),\n",
        "      \"\\nCV SVM con Penalizacion de Desbalanceo:\", np.mean(cv_scores_svm_balanced),\n",
        "      \"\\nCV NB:\", np.mean(cv_score_nb))"
      ],
      "execution_count": null,
      "outputs": [
        {
          "output_type": "stream",
          "text": [
            "Representación TF\n",
            "\n",
            "CV Decision Tree: 0.9447087430921822 \n",
            "CV Support Vector Machines: 0.9743446060960187 \n",
            "CV SVM con Penalizacion de Desbalanceo: 0.9744897278577225 \n",
            "CV NB: 0.9652434277852299\n"
          ],
          "name": "stdout"
        }
      ]
    },
    {
      "cell_type": "code",
      "metadata": {
        "id": "cYWGg_qb9524",
        "outputId": "322bd749-4918-4c35-a49d-44e6e579c186",
        "colab": {
          "base_uri": "https://localhost:8080/"
        }
      },
      "source": [
        "cv_scores_dt = cross_val_score(dt, X_train_tfidf, y_train, cv = 10)\n",
        "cv_scores_svm = cross_val_score(svm, X_train_tfidf, y_train, cv = 10)\n",
        "cv_scores_svm_balanced = cross_val_score(svm_balanced, X_train_tfidf, y_train, cv = 10)\n",
        "cv_score_nb = cross_val_score(nb, X_train_tfidf, y_train, cv = 10)\n",
        "print(\"Representación TF-IDF\")\n",
        "print(\"\\nCV Decision Tree:\", np.mean(cv_scores_dt),\n",
        "      \"\\nCV Support Vector Machines:\", np.mean(cv_scores_svm),\n",
        "      \"\\nCV SVM con Penalizacion de Desbalanceo:\", np.mean(cv_scores_svm_balanced),\n",
        "      \"\\nCV NB:\", np.mean(cv_score_nb))"
      ],
      "execution_count": null,
      "outputs": [
        {
          "output_type": "stream",
          "text": [
            "Representación TF-IDF\n",
            "\n",
            "CV Decision Tree: 0.9448953177772381 \n",
            "CV Support Vector Machines: 0.9628281949414669 \n",
            "CV SVM con Penalizacion de Desbalanceo: 0.962651976503578 \n",
            "CV NB: 0.9593660098663588\n"
          ],
          "name": "stdout"
        }
      ]
    },
    {
      "cell_type": "code",
      "metadata": {
        "id": "u6yRTb4KFE3q",
        "outputId": "48f403ee-7f0d-4b9d-e575-e7bdbc3e4064",
        "colab": {
          "base_uri": "https://localhost:8080/"
        }
      },
      "source": [
        "df = pd.DataFrame(data = y_train, columns=[\"y\"])\n",
        "\n",
        "n_total = np.sum(df.groupby('y')['y'].count())\n",
        "prior = np.array(df.groupby('y')['y'].count())/n_total\n",
        "\n",
        "nb = MultinomialNB(class_prior=prior)\n",
        "cv_score_nb = cross_val_score(nb, X_train_binary, y_train, cv = 10)\n",
        "print(np.mean(cv_score_nb))"
      ],
      "execution_count": null,
      "outputs": [
        {
          "output_type": "stream",
          "text": [
            "0.9653885484725228\n"
          ],
          "name": "stdout"
        }
      ]
    },
    {
      "cell_type": "markdown",
      "metadata": {
        "id": "G-XKEh3Ve9Nm"
      },
      "source": [
        "##Entrenamiento del modelo final"
      ]
    },
    {
      "cell_type": "markdown",
      "metadata": {
        "id": "FMjWjRAKZamu"
      },
      "source": [
        "###Entrenamiento con el Train set"
      ]
    },
    {
      "cell_type": "code",
      "metadata": {
        "id": "VospU6TqJN6w",
        "outputId": "e539b21f-2533-4f3b-922e-fa79a00435b6",
        "colab": {
          "base_uri": "https://localhost:8080/"
        }
      },
      "source": [
        "model = LogisticRegression(penalty='l2', class_weight='balanced', max_iter=50000, C=0.1)\n",
        "model.fit(X_train_tfidf, y_train)\n",
        "y_pred = model.predict(X_test_tfidf)\n",
        "print(classification_report(y_test, y_pred))"
      ],
      "execution_count": null,
      "outputs": [
        {
          "output_type": "stream",
          "text": [
            "              precision    recall  f1-score   support\n",
            "\n",
            "           0       0.96      0.94      0.95       277\n",
            "           1       1.00      1.00      1.00       214\n",
            "           2       0.99      0.99      0.99       197\n",
            "           3       0.98      0.99      0.99       177\n",
            "           4       0.99      0.98      0.99       176\n",
            "           5       0.99      0.99      0.99       247\n",
            "           6       0.93      0.92      0.92       210\n",
            "           7       0.83      0.92      0.87       272\n",
            "           8       1.00      0.98      0.99       200\n",
            "           9       0.99      0.98      0.98       214\n",
            "          10       0.91      0.92      0.92       239\n",
            "          11       0.98      0.96      0.97       182\n",
            "          12       0.99      0.99      0.99       159\n",
            "          13       0.99      0.95      0.97       184\n",
            "          14       0.95      0.99      0.97       225\n",
            "          15       0.97      0.97      0.97       215\n",
            "          16       0.97      0.99      0.98       261\n",
            "          17       0.99      0.99      0.99       201\n",
            "          18       0.97      1.00      0.99       271\n",
            "          19       1.00      1.00      1.00       182\n",
            "          20       0.98      0.99      0.99       236\n",
            "          21       1.00      0.98      0.99       227\n",
            "          22       0.95      0.97      0.96       179\n",
            "          23       0.98      1.00      0.99       246\n",
            "          24       0.92      0.95      0.94       243\n",
            "          25       0.98      0.99      0.99       184\n",
            "          26       0.97      0.91      0.94       190\n",
            "          27       1.00      0.99      0.99       179\n",
            "          28       1.00      0.99      0.99       206\n",
            "          29       0.99      0.99      0.99       206\n",
            "          30       0.99      1.00      1.00       224\n",
            "          31       0.98      0.98      0.98       243\n",
            "          32       0.95      0.99      0.97       246\n",
            "          33       1.00      0.99      0.99       249\n",
            "          34       0.99      0.95      0.97       198\n",
            "          35       1.00      0.98      0.99       188\n",
            "          36       0.99      0.99      0.99       204\n",
            "          37       1.00      1.00      1.00       224\n",
            "          38       0.99      0.98      0.99       196\n",
            "          39       1.00      0.99      1.00       244\n",
            "          40       0.99      0.99      0.99       204\n",
            "          41       1.00      1.00      1.00       212\n",
            "          42       1.00      0.99      1.00       224\n",
            "          43       1.00      0.99      0.99       187\n",
            "          44       0.99      0.95      0.97       197\n",
            "          45       0.98      0.99      0.99       255\n",
            "          46       0.96      0.98      0.97       205\n",
            "          47       0.97      0.83      0.89       143\n",
            "          48       0.99      0.99      0.99       181\n",
            "          49       0.99      0.99      0.99       297\n",
            "\n",
            "    accuracy                           0.98     10720\n",
            "   macro avg       0.98      0.98      0.98     10720\n",
            "weighted avg       0.98      0.98      0.98     10720\n",
            "\n"
          ],
          "name": "stdout"
        }
      ]
    },
    {
      "cell_type": "markdown",
      "metadata": {
        "id": "1njpplJyZeWk"
      },
      "source": [
        "###Entrenamiento con todos los datos"
      ]
    },
    {
      "cell_type": "code",
      "metadata": {
        "id": "IvZv8Zx_XUXY",
        "outputId": "ff7e9fc7-d337-4a9d-feef-fb994337925a",
        "colab": {
          "base_uri": "https://localhost:8080/"
        }
      },
      "source": [
        "model = LogisticRegression(penalty='l2', class_weight='balanced', max_iter=50000)\n",
        "model.fit(X_titles_tfidf, categories)"
      ],
      "execution_count": null,
      "outputs": [
        {
          "output_type": "execute_result",
          "data": {
            "text/plain": [
              "LinearSVC(C=0.1, class_weight='balanced', dual=True, fit_intercept=True,\n",
              "          intercept_scaling=1, loss='squared_hinge', max_iter=50000,\n",
              "          multi_class='ovr', penalty='l2', random_state=None, tol=0.0001,\n",
              "          verbose=0)"
            ]
          },
          "metadata": {
            "tags": []
          },
          "execution_count": 17
        }
      ]
    },
    {
      "cell_type": "markdown",
      "metadata": {
        "id": "M3Hc7m2I06nx"
      },
      "source": [
        "#Plotting"
      ]
    },
    {
      "cell_type": "code",
      "metadata": {
        "id": "1egsxWJO07n4"
      },
      "source": [
        ""
      ],
      "execution_count": null,
      "outputs": []
    },
    {
      "cell_type": "markdown",
      "metadata": {
        "id": "x7xiVcoSD4zU"
      },
      "source": [
        "#Submit"
      ]
    },
    {
      "cell_type": "code",
      "metadata": {
        "id": "jlpguGnxOANu",
        "outputId": "53fff2ac-1ecc-4eac-9322-9279813ceec9",
        "colab": {
          "base_uri": "https://localhost:8080/",
          "height": 404
        }
      },
      "source": [
        "submit_csv"
      ],
      "execution_count": null,
      "outputs": [
        {
          "output_type": "execute_result",
          "data": {
            "text/html": [
              "<div>\n",
              "<style scoped>\n",
              "    .dataframe tbody tr th:only-of-type {\n",
              "        vertical-align: middle;\n",
              "    }\n",
              "\n",
              "    .dataframe tbody tr th {\n",
              "        vertical-align: top;\n",
              "    }\n",
              "\n",
              "    .dataframe thead th {\n",
              "        text-align: right;\n",
              "    }\n",
              "</style>\n",
              "<table border=\"1\" class=\"dataframe\">\n",
              "  <thead>\n",
              "    <tr style=\"text-align: right;\">\n",
              "      <th></th>\n",
              "      <th>Id</th>\n",
              "      <th>title</th>\n",
              "      <th>Predicted</th>\n",
              "    </tr>\n",
              "  </thead>\n",
              "  <tbody>\n",
              "    <tr>\n",
              "      <th>0</th>\n",
              "      <td>0</td>\n",
              "      <td>Collar Marga Black</td>\n",
              "      <td>NaN</td>\n",
              "    </tr>\n",
              "    <tr>\n",
              "      <th>1</th>\n",
              "      <td>1</td>\n",
              "      <td>Microfono Condenser Rode Nt5</td>\n",
              "      <td>NaN</td>\n",
              "    </tr>\n",
              "    <tr>\n",
              "      <th>2</th>\n",
              "      <td>2</td>\n",
              "      <td>Apple Watch + Nike 42mm Silver Aluminum Case P...</td>\n",
              "      <td>NaN</td>\n",
              "    </tr>\n",
              "    <tr>\n",
              "      <th>3</th>\n",
              "      <td>3</td>\n",
              "      <td>Casco Abierto Shiro Sh-62 Monocolor Gris  - Um</td>\n",
              "      <td>NaN</td>\n",
              "    </tr>\n",
              "    <tr>\n",
              "      <th>4</th>\n",
              "      <td>4</td>\n",
              "      <td>Jeans Negro Roto Chupin Hombre Ybr Jeans</td>\n",
              "      <td>NaN</td>\n",
              "    </tr>\n",
              "    <tr>\n",
              "      <th>...</th>\n",
              "      <td>...</td>\n",
              "      <td>...</td>\n",
              "      <td>...</td>\n",
              "    </tr>\n",
              "    <tr>\n",
              "      <th>71456</th>\n",
              "      <td>71456</td>\n",
              "      <td>Hot Wheels 15 Ford F150  Pickup  2015 # 119 So...</td>\n",
              "      <td>NaN</td>\n",
              "    </tr>\n",
              "    <tr>\n",
              "      <th>71457</th>\n",
              "      <td>71457</td>\n",
              "      <td>Memoria So-dimm Ddr3 2gb 1600mhz Pc3-12800s</td>\n",
              "      <td>NaN</td>\n",
              "    </tr>\n",
              "    <tr>\n",
              "      <th>71458</th>\n",
              "      <td>71458</td>\n",
              "      <td>Microprocesador Intel I7 2.93 Mhz Socket 1366</td>\n",
              "      <td>NaN</td>\n",
              "    </tr>\n",
              "    <tr>\n",
              "      <th>71459</th>\n",
              "      <td>71459</td>\n",
              "      <td>Jv Casco Ls2 Convertible Rebatible  Ff 399 Val...</td>\n",
              "      <td>NaN</td>\n",
              "    </tr>\n",
              "    <tr>\n",
              "      <th>71460</th>\n",
              "      <td>71460</td>\n",
              "      <td>Bujia Volkswagen Bora 2.0</td>\n",
              "      <td>NaN</td>\n",
              "    </tr>\n",
              "  </tbody>\n",
              "</table>\n",
              "<p>71461 rows × 3 columns</p>\n",
              "</div>"
            ],
            "text/plain": [
              "          Id                                              title  Predicted\n",
              "0          0                                 Collar Marga Black        NaN\n",
              "1          1                       Microfono Condenser Rode Nt5        NaN\n",
              "2          2  Apple Watch + Nike 42mm Silver Aluminum Case P...        NaN\n",
              "3          3     Casco Abierto Shiro Sh-62 Monocolor Gris  - Um        NaN\n",
              "4          4           Jeans Negro Roto Chupin Hombre Ybr Jeans        NaN\n",
              "...      ...                                                ...        ...\n",
              "71456  71456  Hot Wheels 15 Ford F150  Pickup  2015 # 119 So...        NaN\n",
              "71457  71457        Memoria So-dimm Ddr3 2gb 1600mhz Pc3-12800s        NaN\n",
              "71458  71458      Microprocesador Intel I7 2.93 Mhz Socket 1366        NaN\n",
              "71459  71459  Jv Casco Ls2 Convertible Rebatible  Ff 399 Val...        NaN\n",
              "71460  71460                          Bujia Volkswagen Bora 2.0        NaN\n",
              "\n",
              "[71461 rows x 3 columns]"
            ]
          },
          "metadata": {
            "tags": []
          },
          "execution_count": 24
        }
      ]
    },
    {
      "cell_type": "code",
      "metadata": {
        "id": "5mHI4XtgJxeP",
        "outputId": "a0caa49c-365d-43e6-a60f-c41dabcd6ebb",
        "colab": {
          "base_uri": "https://localhost:8080/",
          "height": 404
        }
      },
      "source": [
        "predicted_class = model.predict(X_pred_tfidf)\n",
        "inverted_predicted = label_encoder.inverse_transform(predicted_class)\n",
        "submit_csv.Predicted = inverted_predicted\n",
        "del submit_csv['title']\n",
        "submit_csv"
      ],
      "execution_count": null,
      "outputs": [
        {
          "output_type": "execute_result",
          "data": {
            "text/html": [
              "<div>\n",
              "<style scoped>\n",
              "    .dataframe tbody tr th:only-of-type {\n",
              "        vertical-align: middle;\n",
              "    }\n",
              "\n",
              "    .dataframe tbody tr th {\n",
              "        vertical-align: top;\n",
              "    }\n",
              "\n",
              "    .dataframe thead th {\n",
              "        text-align: right;\n",
              "    }\n",
              "</style>\n",
              "<table border=\"1\" class=\"dataframe\">\n",
              "  <thead>\n",
              "    <tr style=\"text-align: right;\">\n",
              "      <th></th>\n",
              "      <th>Id</th>\n",
              "      <th>Predicted</th>\n",
              "    </tr>\n",
              "  </thead>\n",
              "  <tbody>\n",
              "    <tr>\n",
              "      <th>0</th>\n",
              "      <td>0</td>\n",
              "      <td>NECKLACES</td>\n",
              "    </tr>\n",
              "    <tr>\n",
              "      <th>1</th>\n",
              "      <td>1</td>\n",
              "      <td>MICROPHONES</td>\n",
              "    </tr>\n",
              "    <tr>\n",
              "      <th>2</th>\n",
              "      <td>2</td>\n",
              "      <td>SMARTWATCHES</td>\n",
              "    </tr>\n",
              "    <tr>\n",
              "      <th>3</th>\n",
              "      <td>3</td>\n",
              "      <td>MOTORCYCLE_HELMETS</td>\n",
              "    </tr>\n",
              "    <tr>\n",
              "      <th>4</th>\n",
              "      <td>4</td>\n",
              "      <td>PANTS</td>\n",
              "    </tr>\n",
              "    <tr>\n",
              "      <th>...</th>\n",
              "      <td>...</td>\n",
              "      <td>...</td>\n",
              "    </tr>\n",
              "    <tr>\n",
              "      <th>71456</th>\n",
              "      <td>71456</td>\n",
              "      <td>DIECAST_VEHICLES</td>\n",
              "    </tr>\n",
              "    <tr>\n",
              "      <th>71457</th>\n",
              "      <td>71457</td>\n",
              "      <td>RAM_MEMORY_MODULES</td>\n",
              "    </tr>\n",
              "    <tr>\n",
              "      <th>71458</th>\n",
              "      <td>71458</td>\n",
              "      <td>COMPUTER_PROCESSORS</td>\n",
              "    </tr>\n",
              "    <tr>\n",
              "      <th>71459</th>\n",
              "      <td>71459</td>\n",
              "      <td>MOTORCYCLE_HELMETS</td>\n",
              "    </tr>\n",
              "    <tr>\n",
              "      <th>71460</th>\n",
              "      <td>71460</td>\n",
              "      <td>SPARK_PLUGS</td>\n",
              "    </tr>\n",
              "  </tbody>\n",
              "</table>\n",
              "<p>71461 rows × 2 columns</p>\n",
              "</div>"
            ],
            "text/plain": [
              "          Id            Predicted\n",
              "0          0            NECKLACES\n",
              "1          1          MICROPHONES\n",
              "2          2         SMARTWATCHES\n",
              "3          3   MOTORCYCLE_HELMETS\n",
              "4          4                PANTS\n",
              "...      ...                  ...\n",
              "71456  71456     DIECAST_VEHICLES\n",
              "71457  71457   RAM_MEMORY_MODULES\n",
              "71458  71458  COMPUTER_PROCESSORS\n",
              "71459  71459   MOTORCYCLE_HELMETS\n",
              "71460  71460          SPARK_PLUGS\n",
              "\n",
              "[71461 rows x 2 columns]"
            ]
          },
          "metadata": {
            "tags": []
          },
          "execution_count": 25
        }
      ]
    },
    {
      "cell_type": "code",
      "metadata": {
        "id": "i6yuZLr6NNVE"
      },
      "source": [
        "submit_csv.to_csv('submission.csv', index = False, header=True)"
      ],
      "execution_count": null,
      "outputs": []
    }
  ]
}