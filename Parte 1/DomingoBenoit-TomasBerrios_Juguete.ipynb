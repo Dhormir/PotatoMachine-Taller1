{
  "nbformat": 4,
  "nbformat_minor": 0,
  "metadata": {
    "colab": {
      "name": "Juguete.ipynb",
      "provenance": [],
      "collapsed_sections": [],
      "toc_visible": true
    },
    "kernelspec": {
      "name": "python3",
      "display_name": "Python 3"
    }
  },
  "cells": [
    {
      "cell_type": "markdown",
      "metadata": {
        "id": "L5rfZ_hYaQ1Z"
      },
      "source": [
        "<center><img src=\"http://www.exalumnos.usm.cl/wp-content/uploads/2015/06/Isotipo-Negro.gif\" title=\"Title text\" width=\"30%\" /></center>\n",
        "\n",
        "<hr style=\"height:2px;border:none\"/>\n",
        "<h1 align='center'> INF-393 Aprendizaje Automático </h1>\n",
        "\n",
        "<H3 align='center'> Tarea/Taller 1 </H3>\n",
        "<hr style=\"height:2px;border:none\"/>\n",
        "\n",
        "**Integrantes**\n",
        "\n",
        "\n",
        "*   Domingo Benoit\n",
        "*   Tomás Berríos\n",
        "\n",
        "\n",
        "\n",
        "**Temas**  \n",
        "\n",
        "* Clasificadores Discriminativos Clásicos\n",
        "* Clasificadores Generativos Clásicos\n",
        "* Regresión Lineal y Regularización \n",
        "* Selección de Características (parcial, seguiremos en T2)\n",
        "* Reducción de Dimensionalidad\n",
        "\n",
        "\n",
        "<hr style=\"height:2px;border:none\"/>\n"
      ]
    },
    {
      "cell_type": "markdown",
      "metadata": {
        "id": "fmuarUxV2ReQ"
      },
      "source": [
        "#Imports"
      ]
    },
    {
      "cell_type": "code",
      "metadata": {
        "id": "x8AhSbyG1QM5"
      },
      "source": [
        "import pandas as pd\n",
        "import seaborn as sns\n",
        "import matplotlib.pyplot as plt\n",
        "\n",
        "import numpy as np\n",
        "\n",
        "import random\n",
        "\n",
        "from sklearn.linear_model import LogisticRegression\n",
        "from sklearn import datasets\n",
        "from sklearn.model_selection import cross_val_score\n",
        "from sklearn.naive_bayes import GaussianNB \n",
        "\n",
        "from sklearn.metrics import accuracy_score\n",
        "\n",
        "from sklearn.metrics import classification_report\n",
        "from sklearn.metrics import roc_curve\n",
        "from sklearn.metrics import precision_recall_curve, auc, average_precision_score\n",
        "\n",
        "from sklearn.utils import resample\n",
        "\n",
        "%matplotlib notebook\n",
        "\n",
        "plt.style.use('seaborn-colorblind')"
      ],
      "execution_count": 1,
      "outputs": []
    },
    {
      "cell_type": "markdown",
      "metadata": {
        "id": "ZN_z1MwD2sEW"
      },
      "source": [
        "#Dataset\n",
        "\n",
        "Definimos una funciona lineal y creamos el dataset sintetico"
      ]
    },
    {
      "cell_type": "code",
      "metadata": {
        "id": "LJL7rk-bIoNo"
      },
      "source": [
        "f = lambda x, y, z, p, q, r: 400*x + 30*y + 0.5*z + 600*p + 4*q + 0.002*r \n",
        "f = np.vectorize(f)\n",
        "data = np.random.rand(80, 6)\n",
        "y = f(data[:, 0], data[:, 1], data[:, 2], data[:, 3], data[:, 4], data[:, 5])\n",
        "toy_dataset = pd.DataFrame(data = np.c_[data, y], columns=['v1', 'v2', 'v3', 'v4', 'v5', 'v6', 'y'])"
      ],
      "execution_count": 2,
      "outputs": []
    },
    {
      "cell_type": "code",
      "metadata": {
        "id": "WzGh2a8kK-tz",
        "outputId": "be870416-eee5-4586-91ee-d3ff2a8784d2",
        "colab": {
          "base_uri": "https://localhost:8080/"
        }
      },
      "source": [
        "min = np.min(toy_dataset['y'])\n",
        "max = np.max(toy_dataset['y'])\n",
        "inter = (max - min)/2\n",
        "print(min, max, inter)"
      ],
      "execution_count": 3,
      "outputs": [
        {
          "output_type": "stream",
          "text": [
            "64.25076975377802 957.7175016685081 446.73336595736504\n"
          ],
          "name": "stdout"
        }
      ]
    },
    {
      "cell_type": "code",
      "metadata": {
        "id": "qQt0zxYqIxk0",
        "outputId": "bdf507d0-4c85-4dc9-a9a1-c6a0aec2e9ac",
        "colab": {
          "base_uri": "https://localhost:8080/"
        }
      },
      "source": [
        "toy_dataset.loc[toy_dataset['y'] < min + inter, 'y'] = 0\n",
        "toy_dataset.loc[toy_dataset['y'] >= min + inter, 'y'] = 1\n",
        "toy_dataset['y'] = toy_dataset['y'].astype(\"int32\")\n",
        "n_examples = 20\n",
        "n_examples"
      ],
      "execution_count": 4,
      "outputs": [
        {
          "output_type": "execute_result",
          "data": {
            "text/plain": [
              "20"
            ]
          },
          "metadata": {
            "tags": []
          },
          "execution_count": 4
        }
      ]
    },
    {
      "cell_type": "code",
      "metadata": {
        "id": "03FY4qg9Mg0C"
      },
      "source": [
        "new_df_0 = resample(toy_dataset[toy_dataset['y'] == 0], \n",
        "                    replace=False,     # sample with replacement\n",
        "                    n_samples=n_examples,    # to match majority class\n",
        "                    random_state=123)\n",
        "new_df_1 = resample(toy_dataset[toy_dataset['y'] == 1], \n",
        "                    replace=False,     # sample with replacement\n",
        "                    n_samples=n_examples,    # to match majority class\n",
        "                    random_state=123)"
      ],
      "execution_count": 5,
      "outputs": []
    },
    {
      "cell_type": "code",
      "metadata": {
        "id": "31k-d_rFJi1a",
        "outputId": "0f2305e7-ae67-46b7-ab21-3629c00c3720",
        "colab": {
          "base_uri": "https://localhost:8080/",
          "height": 204
        }
      },
      "source": [
        "new_df = pd.concat([new_df_0, new_df_1])\n",
        "new_df.head()"
      ],
      "execution_count": 6,
      "outputs": [
        {
          "output_type": "execute_result",
          "data": {
            "text/html": [
              "<div>\n",
              "<style scoped>\n",
              "    .dataframe tbody tr th:only-of-type {\n",
              "        vertical-align: middle;\n",
              "    }\n",
              "\n",
              "    .dataframe tbody tr th {\n",
              "        vertical-align: top;\n",
              "    }\n",
              "\n",
              "    .dataframe thead th {\n",
              "        text-align: right;\n",
              "    }\n",
              "</style>\n",
              "<table border=\"1\" class=\"dataframe\">\n",
              "  <thead>\n",
              "    <tr style=\"text-align: right;\">\n",
              "      <th></th>\n",
              "      <th>v1</th>\n",
              "      <th>v2</th>\n",
              "      <th>v3</th>\n",
              "      <th>v4</th>\n",
              "      <th>v5</th>\n",
              "      <th>v6</th>\n",
              "      <th>y</th>\n",
              "    </tr>\n",
              "  </thead>\n",
              "  <tbody>\n",
              "    <tr>\n",
              "      <th>18</th>\n",
              "      <td>0.399228</td>\n",
              "      <td>0.634284</td>\n",
              "      <td>0.857161</td>\n",
              "      <td>0.389751</td>\n",
              "      <td>0.109655</td>\n",
              "      <td>0.772420</td>\n",
              "      <td>0</td>\n",
              "    </tr>\n",
              "    <tr>\n",
              "      <th>23</th>\n",
              "      <td>0.436680</td>\n",
              "      <td>0.175726</td>\n",
              "      <td>0.559096</td>\n",
              "      <td>0.269578</td>\n",
              "      <td>0.194785</td>\n",
              "      <td>0.299835</td>\n",
              "      <td>0</td>\n",
              "    </tr>\n",
              "    <tr>\n",
              "      <th>52</th>\n",
              "      <td>0.019260</td>\n",
              "      <td>0.443003</td>\n",
              "      <td>0.359547</td>\n",
              "      <td>0.099044</td>\n",
              "      <td>0.058803</td>\n",
              "      <td>0.826090</td>\n",
              "      <td>0</td>\n",
              "    </tr>\n",
              "    <tr>\n",
              "      <th>78</th>\n",
              "      <td>0.212561</td>\n",
              "      <td>0.123413</td>\n",
              "      <td>0.585568</td>\n",
              "      <td>0.653257</td>\n",
              "      <td>0.532011</td>\n",
              "      <td>0.546771</td>\n",
              "      <td>0</td>\n",
              "    </tr>\n",
              "    <tr>\n",
              "      <th>36</th>\n",
              "      <td>0.552527</td>\n",
              "      <td>0.476581</td>\n",
              "      <td>0.591708</td>\n",
              "      <td>0.197081</td>\n",
              "      <td>0.100119</td>\n",
              "      <td>0.521183</td>\n",
              "      <td>0</td>\n",
              "    </tr>\n",
              "  </tbody>\n",
              "</table>\n",
              "</div>"
            ],
            "text/plain": [
              "          v1        v2        v3        v4        v5        v6  y\n",
              "18  0.399228  0.634284  0.857161  0.389751  0.109655  0.772420  0\n",
              "23  0.436680  0.175726  0.559096  0.269578  0.194785  0.299835  0\n",
              "52  0.019260  0.443003  0.359547  0.099044  0.058803  0.826090  0\n",
              "78  0.212561  0.123413  0.585568  0.653257  0.532011  0.546771  0\n",
              "36  0.552527  0.476581  0.591708  0.197081  0.100119  0.521183  0"
            ]
          },
          "metadata": {
            "tags": []
          },
          "execution_count": 6
        }
      ]
    },
    {
      "cell_type": "code",
      "metadata": {
        "id": "7iunkE4ir1ht"
      },
      "source": [
        "data = np.random.rand(300, 6)\n",
        "y = f(data[:, 0], data[:, 1], data[:, 2], data[:, 3], data[:, 4], data[:, 5])\n",
        "test_toy_df = pd.DataFrame(data = np.c_[data, y], columns=['v1', 'v2', 'v3', 'v4', 'v5', 'v6', 'y'])\n",
        "test_toy_df.loc[test_toy_df['y'] < min + inter, 'y'] = 0\n",
        "test_toy_df.loc[test_toy_df['y'] >= min + inter, 'y'] = 1\n",
        "test_toy_df['y'] = test_toy_df['y'].astype(\"int32\")\n",
        "n_examples = 10\n",
        "new_df_0 = resample(toy_dataset[toy_dataset['y'] == 0], \n",
        "                    replace=False,     # sample with replacement\n",
        "                    n_samples=n_examples,    # to match majority class\n",
        "                    random_state=123)\n",
        "new_df_1 = resample(toy_dataset[toy_dataset['y'] == 1], \n",
        "                    replace=False,     # sample with replacement\n",
        "                    n_samples=n_examples,    # to match majority class\n",
        "                    random_state=123)\n",
        "test_df = pd.concat([new_df_0, new_df_1])"
      ],
      "execution_count": 7,
      "outputs": []
    },
    {
      "cell_type": "markdown",
      "metadata": {
        "id": "jiuL6dfuGD6A"
      },
      "source": [
        "###Downsampling\n",
        "Generamos desbalance en el dataset"
      ]
    },
    {
      "cell_type": "code",
      "metadata": {
        "id": "VqvmNNgG2yoW"
      },
      "source": [
        "p_imb = 0.0\n",
        "n_iter = 6\n",
        "df_class_0 = []\n",
        "df_class_1 = []\n",
        "apriors_0 = []\n",
        "apriors_1 = []\n",
        "for _ in range(0, n_iter):\n",
        "  n_reduce = int(n_examples * p_imb)\n",
        "  class_0_i = resample(new_df[new_df['y'] == 0], replace=False, n_samples=n_examples - n_reduce, random_state=123)\n",
        "  class_1_i = resample(new_df[new_df['y'] == 1], replace=False, n_samples=n_examples - n_reduce, random_state=123)\n",
        "  n_total = n_examples + n_examples - n_reduce\n",
        "  apriors_0.append([n_examples/n_total, (n_examples - n_reduce)/n_total])\n",
        "  df_class_0.append(pd.concat([new_df[new_df['y'] == 0], class_1_i]))\n",
        "  apriors_1.append([(n_examples - n_reduce)/n_total, n_examples/n_total])\n",
        "  df_class_1.append(pd.concat([class_0_i, new_df[new_df['y'] == 1]]))\n",
        "  p_imb += 0.1"
      ],
      "execution_count": 8,
      "outputs": []
    },
    {
      "cell_type": "markdown",
      "metadata": {
        "id": "Mv3_u22d2X7G"
      },
      "source": [
        "#Training\n",
        "Entrenamos los modelos y observamos el desempeño en las metricas"
      ]
    },
    {
      "cell_type": "code",
      "metadata": {
        "id": "R0M5A949pZc7",
        "outputId": "284e4f0c-488b-4733-f2c2-f9f33cf6d41b",
        "colab": {
          "base_uri": "https://localhost:8080/"
        }
      },
      "source": [
        "cv_class_0_score_LR = []\n",
        "cv_class_1_score_LR = []\n",
        "cv_class_0_score_NB = []\n",
        "cv_class_1_score_NB = []\n",
        "\n",
        "acc_class_0_score_LR = []\n",
        "acc_class_1_score_LR = []\n",
        "acc_class_0_score_NB = []\n",
        "acc_class_1_score_NB = []\n",
        "\n",
        "x_test = test_df[['v1', 'v2', 'v3', 'v4', 'v5', 'v5']]\n",
        "y_test = test_df['y']\n",
        "\n",
        "steps = [float(i*0.1) for i in range(0, n_iter)]\n",
        "\n",
        "roc = False\n",
        "\n",
        "if roc:\n",
        "  fig, ax1 = plt.subplots(figsize=(18,5),nrows=1)\n",
        "  fig, ax2 = plt.subplots(figsize=(18,5),nrows=1)\n",
        "\n",
        "for i in range(0, n_iter):\n",
        "\n",
        "  lr = LogisticRegression(max_iter = 1000)\n",
        "  nb = GaussianNB(priors= apriors_0[i])\n",
        "  x_train = df_class_0[i][['v1', 'v2', 'v3', 'v4', 'v5', 'v5']]\n",
        "  y_train = df_class_0[i]['y']\n",
        "\n",
        "  cv_scores = cross_val_score(lr, x_train, y_train, cv = 5)\n",
        "  cv_class_0_score_LR.append(np.mean(cv_scores))\n",
        "  cv_scores = cross_val_score(nb, x_train, y_train, cv = 5)\n",
        "  cv_class_0_score_NB.append(np.mean(cv_scores))\n",
        "\n",
        "  lr.fit(x_train, y_train)\n",
        "  y_pred = lr.predict(x_test)\n",
        "  print(\"Porcentaje de desbalanceo LR: %\",steps[i])\n",
        "  print(classification_report(y_test, y_pred))\n",
        "  acc_class_0_score_LR.append(accuracy_score(y_test, y_pred))\n",
        "  if roc:\n",
        "    fpr_binary, tpr_binary, thresholds_binary = roc_curve(y_test, y_pred)\n",
        "    ax2.plot(fpr_binary, tpr_binary, label=i)\n",
        "    precision_binary, recall_binary, thrs_binary = precision_recall_curve(y_test, y_pred)\n",
        "    ax1.plot(recall_binary, precision_binary, label=i)\n",
        "  \n",
        "\n",
        "  nb.fit(x_train, y_train)\n",
        "  y_pred = nb.predict(x_test)\n",
        "  print(\"Porcentaje de desbalanceo NB: %\",steps[i])\n",
        "  print(classification_report(y_test, y_pred))\n",
        "  acc_class_0_score_NB.append(accuracy_score(y_test, y_pred))\n",
        "  if roc:\n",
        "    fpr_binary, tpr_binary, thresholds_binary = roc_curve(y_test, y_pred)\n",
        "    ax2.plot(fpr_binary, tpr_binary)\n",
        "    precision_binary, recall_binary, thrs_binary = precision_recall_curve(y_test, y_pred)\n",
        "    ax1.plot(recall_binary, precision_binary)\n",
        "  \n",
        "\n",
        "  lr = LogisticRegression(max_iter = 1000)\n",
        "  nb = GaussianNB(priors= apriors_1[i])\n",
        "  x_train = df_class_1[i][['v1', 'v2', 'v3', 'v4', 'v5', 'v5']]\n",
        "  y_train = df_class_1[i]['y']\n",
        "\n",
        "  cv_scores = cross_val_score(lr, x_train, y_train, cv = 5)\n",
        "  cv_class_1_score_LR.append(np.mean(cv_scores))\n",
        "  cv_scores = cross_val_score(nb, x_train, y_train, cv = 5)\n",
        "  cv_class_1_score_NB.append(np.mean(cv_scores))\n",
        "\n",
        "  lr.fit(x_train, y_train)\n",
        "  y_pred = lr.predict(x_test)\n",
        "  acc_class_1_score_LR.append(accuracy_score(y_test, y_pred))\n",
        "\n",
        "  nb.fit(x_train, y_train)\n",
        "  y_pred = nb.predict(x_test)\n",
        "  acc_class_1_score_NB.append(accuracy_score(y_test, y_pred))\n",
        "\n",
        "\n",
        "if roc:\n",
        "  plt.show()"
      ],
      "execution_count": 12,
      "outputs": [
        {
          "output_type": "stream",
          "text": [
            "Porcentaje de desbalanceo LR: % 0.0\n",
            "              precision    recall  f1-score   support\n",
            "\n",
            "           0       0.67      1.00      0.80        10\n",
            "           1       1.00      0.50      0.67        10\n",
            "\n",
            "    accuracy                           0.75        20\n",
            "   macro avg       0.83      0.75      0.73        20\n",
            "weighted avg       0.83      0.75      0.73        20\n",
            "\n",
            "Porcentaje de desbalanceo NB: % 0.0\n",
            "              precision    recall  f1-score   support\n",
            "\n",
            "           0       0.90      0.90      0.90        10\n",
            "           1       0.90      0.90      0.90        10\n",
            "\n",
            "    accuracy                           0.90        20\n",
            "   macro avg       0.90      0.90      0.90        20\n",
            "weighted avg       0.90      0.90      0.90        20\n",
            "\n",
            "Porcentaje de desbalanceo LR: % 0.1\n",
            "              precision    recall  f1-score   support\n",
            "\n",
            "           0       0.67      1.00      0.80        10\n",
            "           1       1.00      0.50      0.67        10\n",
            "\n",
            "    accuracy                           0.75        20\n",
            "   macro avg       0.83      0.75      0.73        20\n",
            "weighted avg       0.83      0.75      0.73        20\n",
            "\n",
            "Porcentaje de desbalanceo NB: % 0.1\n",
            "              precision    recall  f1-score   support\n",
            "\n",
            "           0       0.90      0.90      0.90        10\n",
            "           1       0.90      0.90      0.90        10\n",
            "\n",
            "    accuracy                           0.90        20\n",
            "   macro avg       0.90      0.90      0.90        20\n",
            "weighted avg       0.90      0.90      0.90        20\n",
            "\n",
            "Porcentaje de desbalanceo LR: % 0.2\n",
            "              precision    recall  f1-score   support\n",
            "\n",
            "           0       0.56      1.00      0.71        10\n",
            "           1       1.00      0.20      0.33        10\n",
            "\n",
            "    accuracy                           0.60        20\n",
            "   macro avg       0.78      0.60      0.52        20\n",
            "weighted avg       0.78      0.60      0.52        20\n",
            "\n",
            "Porcentaje de desbalanceo NB: % 0.2\n",
            "              precision    recall  f1-score   support\n",
            "\n",
            "           0       0.82      0.90      0.86        10\n",
            "           1       0.89      0.80      0.84        10\n",
            "\n",
            "    accuracy                           0.85        20\n",
            "   macro avg       0.85      0.85      0.85        20\n",
            "weighted avg       0.85      0.85      0.85        20\n",
            "\n",
            "Porcentaje de desbalanceo LR: % 0.30000000000000004\n",
            "              precision    recall  f1-score   support\n",
            "\n",
            "           0       0.56      1.00      0.71        10\n",
            "           1       1.00      0.20      0.33        10\n",
            "\n",
            "    accuracy                           0.60        20\n",
            "   macro avg       0.78      0.60      0.52        20\n",
            "weighted avg       0.78      0.60      0.52        20\n",
            "\n",
            "Porcentaje de desbalanceo NB: % 0.30000000000000004\n",
            "              precision    recall  f1-score   support\n",
            "\n",
            "           0       0.82      0.90      0.86        10\n",
            "           1       0.89      0.80      0.84        10\n",
            "\n",
            "    accuracy                           0.85        20\n",
            "   macro avg       0.85      0.85      0.85        20\n",
            "weighted avg       0.85      0.85      0.85        20\n",
            "\n",
            "Porcentaje de desbalanceo LR: % 0.4\n",
            "              precision    recall  f1-score   support\n",
            "\n",
            "           0       0.50      1.00      0.67        10\n",
            "           1       0.00      0.00      0.00        10\n",
            "\n",
            "    accuracy                           0.50        20\n",
            "   macro avg       0.25      0.50      0.33        20\n",
            "weighted avg       0.25      0.50      0.33        20\n",
            "\n",
            "Porcentaje de desbalanceo NB: % 0.4\n",
            "              precision    recall  f1-score   support\n",
            "\n",
            "           0       0.90      0.90      0.90        10\n",
            "           1       0.90      0.90      0.90        10\n",
            "\n",
            "    accuracy                           0.90        20\n",
            "   macro avg       0.90      0.90      0.90        20\n",
            "weighted avg       0.90      0.90      0.90        20\n",
            "\n",
            "Porcentaje de desbalanceo LR: % 0.5\n",
            "              precision    recall  f1-score   support\n",
            "\n",
            "           0       0.50      1.00      0.67        10\n",
            "           1       0.00      0.00      0.00        10\n",
            "\n",
            "    accuracy                           0.50        20\n",
            "   macro avg       0.25      0.50      0.33        20\n",
            "weighted avg       0.25      0.50      0.33        20\n",
            "\n",
            "Porcentaje de desbalanceo NB: % 0.5\n",
            "              precision    recall  f1-score   support\n",
            "\n",
            "           0       1.00      0.90      0.95        10\n",
            "           1       0.91      1.00      0.95        10\n",
            "\n",
            "    accuracy                           0.95        20\n",
            "   macro avg       0.95      0.95      0.95        20\n",
            "weighted avg       0.95      0.95      0.95        20\n",
            "\n"
          ],
          "name": "stdout"
        },
        {
          "output_type": "stream",
          "text": [
            "/usr/local/lib/python3.6/dist-packages/sklearn/metrics/_classification.py:1272: UndefinedMetricWarning: Precision and F-score are ill-defined and being set to 0.0 in labels with no predicted samples. Use `zero_division` parameter to control this behavior.\n",
            "  _warn_prf(average, modifier, msg_start, len(result))\n",
            "/usr/local/lib/python3.6/dist-packages/sklearn/metrics/_classification.py:1272: UndefinedMetricWarning: Precision and F-score are ill-defined and being set to 0.0 in labels with no predicted samples. Use `zero_division` parameter to control this behavior.\n",
            "  _warn_prf(average, modifier, msg_start, len(result))\n"
          ],
          "name": "stderr"
        }
      ]
    },
    {
      "cell_type": "markdown",
      "metadata": {
        "id": "Y5vKPCeLIMF9"
      },
      "source": [
        "###Curvas PR y ROC "
      ]
    },
    {
      "cell_type": "code",
      "metadata": {
        "id": "l8EN1HCzzAo2",
        "outputId": "c45077be-6142-4a0b-b532-a47de7ca7e9e",
        "colab": {
          "base_uri": "https://localhost:8080/",
          "height": 558
        }
      },
      "source": [
        "fig, ax1 = plt.subplots(figsize=(18,5),nrows=1)\n",
        "fig, ax2 = plt.subplots(figsize=(18,5),nrows=1)\n",
        "\n",
        "i = 5\n",
        "\n",
        "lr = LogisticRegression(max_iter = 1000)\n",
        "nb = GaussianNB(priors= apriors_0[i])\n",
        "x_train = df_class_0[i][['v1', 'v2', 'v3', 'v4', 'v5', 'v5']]\n",
        "y_train = df_class_0[i]['y']\n",
        "\n",
        "lr.fit(x_train, y_train)\n",
        "y_pred = lr.predict(x_test)\n",
        "\n",
        "fpr_binary, tpr_binary, thresholds_binary = roc_curve(y_test, y_pred)\n",
        "ax2.plot(fpr_binary, tpr_binary)\n",
        "precision_binary, recall_binary, thrs_binary = precision_recall_curve(y_test, y_pred)\n",
        "ax1.plot(recall_binary, precision_binary)\n",
        "\n",
        "nb.fit(x_train, y_train)\n",
        "y_pred = nb.predict(x_test)\n",
        "\n",
        "fpr_binary, tpr_binary, thresholds_binary = roc_curve(y_test, y_pred)\n",
        "ax2.plot(fpr_binary, tpr_binary)\n",
        "precision_binary, recall_binary, thrs_binary = precision_recall_curve(y_test, y_pred)\n",
        "ax1.plot(recall_binary, precision_binary)\n",
        "\n",
        "ax2.set_title(\"ROC Curve\")\n",
        "ax2.set_xlabel(\"False Positive Rate (1-Especificidad)\")\n",
        "ax2.set_ylabel(\"True Positive Rate (Recall)\")\n",
        "ax2.legend(['LR','Gaussian NB'],loc=0,frameon=False)\n",
        "ax1.set_title(\"PR Curve\")\n",
        "ax1.set_xlabel(\"Precision\")\n",
        "ax1.set_ylabel(\"Recall\")\n",
        "ax1.legend(['LR','Gaussian NB'],loc=0,frameon=False)\n",
        "\n",
        "plt.show()"
      ],
      "execution_count": 13,
      "outputs": [
        {
          "output_type": "display_data",
          "data": {
            "image/png": "[encoded data removed]",
            "text/plain": [
              "<Figure size 1296x360 with 1 Axes>"
            ]
          },
          "metadata": {
            "tags": [],
            "needs_background": "light"
          }
        },
        {
          "output_type": "display_data",
          "data": {
            "image/png": "[encoded data removed]",
            "text/plain": [
              "<Figure size 1296x360 with 1 Axes>"
            ]
          },
          "metadata": {
            "tags": [],
            "needs_background": "light"
          }
        }
      ]
    },
    {
      "cell_type": "code",
      "metadata": {
        "id": "TL0SKbt7ayCk"
      },
      "source": [
        "mean_CV_LR = (np.array(cv_class_1_score_LR) + np.array(cv_class_0_score_LR))/2\n",
        "mean_CV_NB = (np.array(cv_class_1_score_NB) + np.array(cv_class_0_score_NB))/2\n",
        "mean_acc_LR = (np.array(acc_class_1_score_LR) + np.array(acc_class_0_score_LR))/2\n",
        "mean_acc_NB = (np.array(acc_class_1_score_NB) + np.array(acc_class_0_score_NB))/2"
      ],
      "execution_count": null,
      "outputs": []
    },
    {
      "cell_type": "markdown",
      "metadata": {
        "id": "SrlWwvDx4wqV"
      },
      "source": [
        "#Plotting\n",
        "Gráficos puntaje CV y accuracy según el desbalance."
      ]
    },
    {
      "cell_type": "code",
      "metadata": {
        "id": "Z8n0rxj747RH",
        "outputId": "4979d805-f4a5-4470-a5d0-6e8b7f70d503",
        "colab": {
          "base_uri": "https://localhost:8080/",
          "height": 295
        }
      },
      "source": [
        "plt.figure()\n",
        "steps = [float(i*0.1) for i in range(0, n_iter)]\n",
        "plt.plot(steps, mean_CV_LR)\n",
        "plt.plot(steps, mean_CV_NB)\n",
        "\n",
        "plt.xlabel('% de desbalanceo', fontsize=10)\n",
        "plt.ylabel('score CV', fontsize=10)\n",
        "plt.title('Dataset de juguete', fontsize=12)\n",
        "plt.legend(['Media de score CV con LR','Media de score CV con NB'],loc=0,frameon=False)\n",
        "\n",
        "plt.show()"
      ],
      "execution_count": null,
      "outputs": [
        {
          "output_type": "display_data",
          "data": {
            "image/png": "[encoded data removed]",
            "text/plain": [
              "<Figure size 432x288 with 1 Axes>"
            ]
          },
          "metadata": {
            "tags": [],
            "needs_background": "light"
          }
        }
      ]
    },
    {
      "cell_type": "code",
      "metadata": {
        "id": "j6CqiicbwZZj",
        "outputId": "09643408-b7dd-4c16-eb71-354782cc309b",
        "colab": {
          "base_uri": "https://localhost:8080/",
          "height": 295
        }
      },
      "source": [
        "plt.figure()\n",
        "steps = [float(i*0.1) for i in range(0, n_iter)]\n",
        "plt.plot(steps, mean_acc_LR)\n",
        "plt.plot(steps, mean_acc_NB)\n",
        "\n",
        "plt.xlabel('% de desbalanceo', fontsize=10)\n",
        "plt.ylabel('accucary test', fontsize=10)\n",
        "plt.title('Dataset de juguete', fontsize=12)\n",
        "plt.legend(['Media accuracy test con LR','Media accuracy test con NB'],loc=0,frameon=False)\n",
        "\n",
        "plt.show()"
      ],
      "execution_count": null,
      "outputs": [
        {
          "output_type": "display_data",
          "data": {
            "image/png": "[encoded data removed]",
            "text/plain": [
              "<Figure size 432x288 with 1 Axes>"
            ]
          },
          "metadata": {
            "tags": [],
            "needs_background": "light"
          }
        }
      ]
    }
  ]
}